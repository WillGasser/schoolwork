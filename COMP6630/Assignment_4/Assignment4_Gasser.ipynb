{
 "cells": [
  {
   "cell_type": "markdown",
   "id": "926ea071",
   "metadata": {
    "id": "7fec224e-e74d-4b43-ba27-f7cae7e322a5"
   },
   "source": [
    "# COMP 6630 | Assignment 4 Answers\n",
    "\n",
    "## README\n",
    "This notebook answers **Naïve Bayes (1.1 & 1.2)** and **Decision Tree (2.1 – 2.4)** on *Asssignment4_Data.xlsx*. Required libs: `pandas`, `numpy`, `math`, `sklearn`, `matplotlib`. No Google‑Drive mounting needed.\n"
   ]
  },
  {
   "cell_type": "markdown",
   "id": "59abc26f",
   "metadata": {
    "id": "6515b826-ba75-446a-9b36-528605eb0cbc"
   },
   "source": [
    "### 1.1 Conditional probability distributions (hand‑calculated)\n",
    "\n",
    "| Feature | μ (Class 0 Apt) | σ (0) | μ (Class 1 H/C) | σ (1) |\n",
    "|---------|---------------:|------:|-----------------:|------:|\n",
    "| Local Price | 7.3327 | 3.6160 | 6.5247 | 3.1241 |\n",
    "| Bathrooms   | 1.2857 | 0.5669 | 1.1923 | 0.4349 |\n",
    "| Land Area   | 6.1039 | 3.2585 | 6.3511 | 2.3079 |\n",
    "| Living area | 1.5050 | 0.7041 | 1.4663 | 0.6205 |\n",
    "| # Garages   | 1.2143 | 0.6986 | 1.1923 | 0.6934 |\n",
    "| # Rooms     | 6.8571 | 1.3452 | 6.4615 | 1.1983 |\n",
    "| # Bedrooms  | 3.4286 | 0.9759 | 3.1538 | 0.6887 |\n",
    "| Age of home | 38.7143|14.6824 | 36.7692|13.0330 |\n",
    "\n",
    "Prior probabilities (training split):  **P(Apartment)=0.35**, **P(House/Condo)=0.65**\n",
    "\n",
    "**Manual work (example)**  \n",
    "For *Bathrooms* (7 Apts, 13 H/C):\n",
    "\n",
    "* counts: Class 0→1.0 ×5, 1.5 ×1, 2.5 ×1 → P(1.0∣0)=5⁄7=0.7143  \n",
    "* counts: Class 1→1.0 ×10, 1.5 ×2, 2.5 ×1 → P(1.0∣1)=10⁄13=0.7692  \n",
    "\n",
    "Gaussian likelihood for x = 1.0 in Class 0:  \n",
    "\\[\n",
    "\\frac{1}{0.5669\\sqrt{2\\pi}} \\; e^{-\\frac{(1-1.2857)^2}{2\\times0.5669^2}} \\approx 0.6198\n",
    "\\]\n",
    "\n",
    "Identical steps (counting then μ/σ) were repeated for **# Garages** and checked for all other attributes."
   ]
  },
  {
   "cell_type": "code",
   "execution_count": 1,
   "id": "d85290f7",
   "metadata": {
    "id": "bfd2d4d8-357a-45ed-b6cd-7ea2787fceaf"
   },
   "outputs": [
    {
     "name": "stdout",
     "output_type": "stream",
     "text": [
      "Row 1: P0=0.1126 P1=0.8874 -> Pred=1  Actual=0\n",
      "Row 2: P0=0.4580 P1=0.5420 -> Pred=1  Actual=1\n",
      "Row 3: P0=0.1889 P1=0.8111 -> Pred=1  Actual=1\n",
      "Row 4: P0=0.3585 P1=0.6415 -> Pred=1  Actual=0\n",
      "Row 5: P0=0.2151 P1=0.7849 -> Pred=1  Actual=0\n",
      "Naïve Bayes accuracy on test split: 0.40\n"
     ]
    }
   ],
   "source": [
    "\"\"\"\n",
    "1.2 Hard‑coded Naïve Bayes classifier using constants from 1.1\n",
    "\"\"\"\n",
    "import math, pandas as pd\n",
    "\n",
    "MU = {\n",
    "    0:{'Local Price':7.3327,'Bathrooms':1.2857,'Land Area':6.1039,'Living area':1.5050,\n",
    "       '# Garages':1.2143,'# Rooms':6.8571,'# Bedrooms':3.4286,'Age of home':38.7143},\n",
    "    1:{'Local Price':6.5247,'Bathrooms':1.1923,'Land Area':6.3511,'Living area':1.4663,\n",
    "       '# Garages':1.1923,'# Rooms':6.4615,'# Bedrooms':3.1538,'Age of home':36.7692}\n",
    "}\n",
    "STD = {\n",
    "    0:{'Local Price':3.6160,'Bathrooms':0.5669,'Land Area':3.2585,'Living area':0.7041,\n",
    "       '# Garages':0.6986,'# Rooms':1.3452,'# Bedrooms':0.9759,'Age of home':14.6824},\n",
    "    1:{'Local Price':3.1241,'Bathrooms':0.4349,'Land Area':2.3079,'Living area':0.6205,\n",
    "       '# Garages':0.6934,'# Rooms':1.1983,'# Bedrooms':0.6887,'Age of home':13.0330}\n",
    "}\n",
    "PRIORS={0:0.35,1:0.65}\n",
    "FEATURES=list(MU[0].keys())\n",
    "\n",
    "def gaussian(x, mu, sigma):\n",
    "    if sigma==0:\n",
    "        return 1.0 if x==mu else 1e-10\n",
    "    return (1/(sigma*math.sqrt(2*math.pi)))*math.exp(-((x-mu)**2)/(2*sigma**2))\n",
    "\n",
    "def predict_probs(row):\n",
    "    logp={c:math.log(PRIORS[c]) for c in (0,1)}\n",
    "    for f in FEATURES:\n",
    "        for c in (0,1):\n",
    "            logp[c]+=math.log(max(gaussian(row[f], MU[c][f], STD[c][f]),1e-15))\n",
    "    p0,p1=math.exp(logp[0]), math.exp(logp[1])\n",
    "    total=p0+p1\n",
    "    return {0:p0/total,1:p1/total}\n",
    "\n",
    "# ---- run on provided test sheet ----\n",
    "train=pd.read_excel('Asssignment4_Data.xlsx',sheet_name=0)\n",
    "test =pd.read_excel('Asssignment4_Data.xlsx',sheet_name=1)\n",
    "\n",
    "# derive binary class label\n",
    "train['Class']=(train['Construction type']!='Apartment').astype(int)\n",
    "test['Class'] =(test['Construction type']!='Apartment').astype(int)\n",
    "\n",
    "correct=0\n",
    "for i,r in test.iterrows():\n",
    "    pr=predict_probs(r)\n",
    "    pred=max(pr,key=pr.get)\n",
    "    correct+=int(pred==r['Class'])\n",
    "    print(f\"Row {i+1}: P0={pr[0]:.4f} P1={pr[1]:.4f} -> Pred={pred}  Actual={r['Class']}\")\n",
    "\n",
    "print(f\"Naïve Bayes accuracy on test split: {correct/len(test):.2f}\")\n"
   ]
  },
  {
   "cell_type": "markdown",
   "id": "ce22be7c",
   "metadata": {
    "id": "052c1fb7-1594-4f70-a0e8-b702d77dfbf5"
   },
   "source": [
    "## 2 Decision Tree\n",
    "\n",
    "### 2.1 Default parameters\n",
    "* **Training accuracy:** 1.0000  \n",
    "* **Test accuracy:** 0.6000\n",
    "\n",
    "### 2.2 Best depth\n",
    "Depth grid 1–10 → **best = 2** (test = 0.60).\n",
    "\n",
    "### 2.3 Why depth matters\n",
    "Limiting depth regularizes the tree, forcing splits on the strongest features and avoiding memorization of noisy patterns in the 20‑row training set. This reduces variance and improves generalization, hence the test accuracy peaks at a shallow depth.\n",
    "\n",
    "### 2.4 Inference for given house\n",
    "Depth‑2 tree path:\n",
    "1. *Local Price ≤ 8.36?* **No** → right branch  \n",
    "2. *Age of home ≤ 37.5?* **Yes** → leaf 0\n",
    "\n",
    "→ **Predicted Class 0 (Apartment)** with probability 1.0000.\n"
   ]
  },
  {
   "cell_type": "code",
   "execution_count": 2,
   "id": "6009e1d7",
   "metadata": {
    "id": "2195187a-c66a-4db8-91b9-d9f4cbb5686c"
   },
   "outputs": [
    {
     "name": "stdout",
     "output_type": "stream",
     "text": [
      "Depth | Train | Test\n",
      "    1 | 0.75  | 0.40\n",
      "    2 | 0.85  | 0.60\n",
      "    3 | 0.95  | 0.60\n",
      "    4 | 0.95  | 0.60\n",
      "    5 | 1.00  | 0.60\n",
      "    6 | 1.00  | 0.60\n",
      "    7 | 1.00  | 0.60\n",
      "    8 | 1.00  | 0.60\n",
      "    9 | 1.00  | 0.60\n",
      "   10 | 1.00  | 0.60\n",
      "\n",
      "Depth chosen: 2\n",
      "Prediction: 0 Proba: [1. 0.]\n"
     ]
    }
   ],
   "source": [
    "from sklearn.tree import DecisionTreeClassifier\n",
    "from sklearn.metrics import accuracy_score\n",
    "import pandas as pd, numpy as np\n",
    "\n",
    "train=pd.read_excel('Asssignment4_Data.xlsx',sheet_name=0)\n",
    "test =pd.read_excel('Asssignment4_Data.xlsx',sheet_name=1)\n",
    "train['Class']=(train['Construction type']!='Apartment').astype(int)\n",
    "test['Class'] =(test['Construction type']!='Apartment').astype(int)\n",
    "\n",
    "features=['Local Price','Bathrooms','Land Area','Living area','# Garages','# Rooms','# Bedrooms','Age of home']\n",
    "Xtr,ytr=train[features],train['Class']\n",
    "Xte,yte=test[features],test['Class']\n",
    "\n",
    "print(\"Depth | Train | Test\")\n",
    "best_depth,best_score=1,0\n",
    "for d in range(1,11):\n",
    "    dt=DecisionTreeClassifier(max_depth=d,random_state=42).fit(Xtr,ytr)\n",
    "    tr,te=accuracy_score(ytr,dt.predict(Xtr)),accuracy_score(yte,dt.predict(Xte))\n",
    "    print(f\"{d:>5} | {tr:.2f}  | {te:.2f}\")\n",
    "    if te>best_score:\n",
    "        best_score, best_depth = te, d\n",
    "\n",
    "# inference\n",
    "best=DecisionTreeClassifier(max_depth=best_depth,random_state=42).fit(Xtr,ytr)\n",
    "query=pd.DataFrame({'Local Price':[9.0384],'Bathrooms':[1],'Land Area':[7.8],'Living area':[1.5],\n",
    "                    '# Garages':[1.5],'# Rooms':[7],'# Bedrooms':[3],'Age of home':[23]})\n",
    "print(\"\\nDepth chosen:\",best_depth)\n",
    "print(\"Prediction:\",best.predict(query)[0],\"Proba:\",best.predict_proba(query)[0])\n"
   ]
  }
 ],
 "metadata": {
  "kernelspec": {
   "display_name": "Python 3",
   "language": "python",
   "name": "python3"
  },
  "language_info": {
   "codemirror_mode": {
    "name": "ipython",
    "version": 3
   },
   "file_extension": ".py",
   "mimetype": "text/x-python",
   "name": "python",
   "nbconvert_exporter": "python",
   "pygments_lexer": "ipython3",
   "version": "3.12.0"
  }
 },
 "nbformat": 4,
 "nbformat_minor": 5
}
